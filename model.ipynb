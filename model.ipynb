{
 "cells": [
  {
   "cell_type": "markdown",
   "metadata": {},
   "source": [
    "# Summary of Findings\n",
    "\n",
    "\n",
    "### Introduction\n",
    "This dataset contains information about power outages in the US from 2000 to 2016. Each outage contains regional information like the climate region and state that each outage was in. It also has information about the causes of the outages and the extent of the damage they caused. There is also other information about the economics and power consumption of the surrounding area.\n",
    "\n",
    "I want to create a regression model that can predict the severity of a outage so that it can be used to find areas where an outage would have large consequences. The variable that is predicted is the number of customers affected because large outages would affect more people. The model should have the lowest mean squared error in order to be as close as possible to the actual severity of the outage.\n",
    "\n",
    "### Baseline Model\n",
    "I first removed some features like outage duration and observation number because they either can't be known before an outage or they are not relevant to the outage. There were 43 features left of which 5 were nominal and 38 were quantitative. The model imputed missing data and one hot encoded the nominal columns during preprocessing.\n",
    "\n",
    "The model used a Decision Tree Regressor in order to predict the number of customers affected. The RMSE for the test data was about 408,311 which looks high but the number of customers affected can also be on the order of millions. This error can be reduced with a better model.\n",
    "\n",
    "### Final Model\n",
    "The improved model has features of price of electricity and amount of electricity sold standardized to region of the country. These are good for the data because different regions usually have different electricity needs and standardizing checks if an amount is large in relation to its area.\n",
    "\n",
    "In order to find the best model, I tested out a Decision trees, K Nearest Neighbors, Logistic, and Linear regression. For decision trees and KNN, I used GridSearchCV in order to find the best hyperparameters like max depth or number of neighbors. I then tested each model to get the RMSE of each and found that Linear Regression was the best with about 378950. I trained a linear model on the whole dataset as my final model.\n",
    "\n",
    "### Fairness Evaluation\n",
    "I wanted to see if the model was equally as fair for smaller and larger states so I split up the data by population. I used mean square error as the parity measure because I was measuring the difference between quantitative amounts. The hypotheses are:<br>\n",
    "\n",
    "Null Hypothesis: The model is fair; the mse for small and large states are roughly the same <br>\n",
    "Alternative Hypothesis: The model is unfair; the mse for the subsets are different <br>\n",
    "\n",
    "I first found the observed differences between predictions and actual amounts for small and large states. Then I permuted the values 10,000 times and compared it to the observed value to get a p value of 0. This is smaller than a regular alpha of 0.05 so I rejected the null hypothesis. The model is unfair when comparing small and large states."
   ]
  },
  {
   "cell_type": "markdown",
   "metadata": {},
   "source": [
    "# Code"
   ]
  },
  {
   "cell_type": "code",
   "execution_count": 1,
   "metadata": {},
   "outputs": [],
   "source": [
    "import matplotlib.pyplot as plt\n",
    "import numpy as np\n",
    "import os\n",
    "import pandas as pd\n",
    "import seaborn as sns\n",
    "%matplotlib inline\n",
    "%config InlineBackend.figure_format = 'retina'  # Higher resolution figures"
   ]
  },
  {
   "cell_type": "code",
   "execution_count": 2,
   "metadata": {},
   "outputs": [],
   "source": [
    "from sklearn.pipeline import Pipeline\n",
    "from sklearn.impute import SimpleImputer\n",
    "from sklearn.compose import ColumnTransformer\n",
    "from sklearn.linear_model import LinearRegression, LogisticRegression\n",
    "from sklearn.neighbors import KNeighborsRegressor\n",
    "from sklearn.tree import DecisionTreeRegressor\n",
    "from sklearn.preprocessing import OneHotEncoder, FunctionTransformer\n",
    "from sklearn.model_selection import train_test_split, GridSearchCV\n",
    "from sklearn.base import BaseEstimator, TransformerMixin"
   ]
  },
  {
   "cell_type": "markdown",
   "metadata": {},
   "source": [
    "### Baseline Model"
   ]
  },
  {
   "cell_type": "markdown",
   "metadata": {},
   "source": [
    "This cell reads in the dataset of power outages with the correct rows and labels from the excel file."
   ]
  },
  {
   "cell_type": "code",
   "execution_count": 3,
   "metadata": {},
   "outputs": [
    {
     "data": {
      "text/html": [
       "<div>\n",
       "<style scoped>\n",
       "    .dataframe tbody tr th:only-of-type {\n",
       "        vertical-align: middle;\n",
       "    }\n",
       "\n",
       "    .dataframe tbody tr th {\n",
       "        vertical-align: top;\n",
       "    }\n",
       "\n",
       "    .dataframe thead th {\n",
       "        text-align: right;\n",
       "    }\n",
       "</style>\n",
       "<table border=\"1\" class=\"dataframe\">\n",
       "  <thead>\n",
       "    <tr style=\"text-align: right;\">\n",
       "      <th></th>\n",
       "      <th>OBS</th>\n",
       "      <th>YEAR</th>\n",
       "      <th>MONTH</th>\n",
       "      <th>U.S._STATE</th>\n",
       "      <th>POSTAL.CODE</th>\n",
       "      <th>NERC.REGION</th>\n",
       "      <th>CLIMATE.REGION</th>\n",
       "      <th>ANOMALY.LEVEL</th>\n",
       "      <th>CLIMATE.CATEGORY</th>\n",
       "      <th>OUTAGE.START.DATE</th>\n",
       "      <th>...</th>\n",
       "      <th>POPPCT_URBAN</th>\n",
       "      <th>POPPCT_UC</th>\n",
       "      <th>POPDEN_URBAN</th>\n",
       "      <th>POPDEN_UC</th>\n",
       "      <th>POPDEN_RURAL</th>\n",
       "      <th>AREAPCT_URBAN</th>\n",
       "      <th>AREAPCT_UC</th>\n",
       "      <th>PCT_LAND</th>\n",
       "      <th>PCT_WATER_TOT</th>\n",
       "      <th>PCT_WATER_INLAND</th>\n",
       "    </tr>\n",
       "  </thead>\n",
       "  <tbody>\n",
       "    <tr>\n",
       "      <th>0</th>\n",
       "      <td>1</td>\n",
       "      <td>2011</td>\n",
       "      <td>7.0</td>\n",
       "      <td>Minnesota</td>\n",
       "      <td>MN</td>\n",
       "      <td>MRO</td>\n",
       "      <td>East North Central</td>\n",
       "      <td>-0.3</td>\n",
       "      <td>normal</td>\n",
       "      <td>2011-07-01</td>\n",
       "      <td>...</td>\n",
       "      <td>73.27</td>\n",
       "      <td>15.28</td>\n",
       "      <td>2279.0</td>\n",
       "      <td>1700.5</td>\n",
       "      <td>18.2</td>\n",
       "      <td>2.14</td>\n",
       "      <td>0.6</td>\n",
       "      <td>91.592666</td>\n",
       "      <td>8.407334</td>\n",
       "      <td>5.478743</td>\n",
       "    </tr>\n",
       "    <tr>\n",
       "      <th>1</th>\n",
       "      <td>2</td>\n",
       "      <td>2014</td>\n",
       "      <td>5.0</td>\n",
       "      <td>Minnesota</td>\n",
       "      <td>MN</td>\n",
       "      <td>MRO</td>\n",
       "      <td>East North Central</td>\n",
       "      <td>-0.1</td>\n",
       "      <td>normal</td>\n",
       "      <td>2014-05-11</td>\n",
       "      <td>...</td>\n",
       "      <td>73.27</td>\n",
       "      <td>15.28</td>\n",
       "      <td>2279.0</td>\n",
       "      <td>1700.5</td>\n",
       "      <td>18.2</td>\n",
       "      <td>2.14</td>\n",
       "      <td>0.6</td>\n",
       "      <td>91.592666</td>\n",
       "      <td>8.407334</td>\n",
       "      <td>5.478743</td>\n",
       "    </tr>\n",
       "    <tr>\n",
       "      <th>2</th>\n",
       "      <td>3</td>\n",
       "      <td>2010</td>\n",
       "      <td>10.0</td>\n",
       "      <td>Minnesota</td>\n",
       "      <td>MN</td>\n",
       "      <td>MRO</td>\n",
       "      <td>East North Central</td>\n",
       "      <td>-1.5</td>\n",
       "      <td>cold</td>\n",
       "      <td>2010-10-26</td>\n",
       "      <td>...</td>\n",
       "      <td>73.27</td>\n",
       "      <td>15.28</td>\n",
       "      <td>2279.0</td>\n",
       "      <td>1700.5</td>\n",
       "      <td>18.2</td>\n",
       "      <td>2.14</td>\n",
       "      <td>0.6</td>\n",
       "      <td>91.592666</td>\n",
       "      <td>8.407334</td>\n",
       "      <td>5.478743</td>\n",
       "    </tr>\n",
       "    <tr>\n",
       "      <th>3</th>\n",
       "      <td>4</td>\n",
       "      <td>2012</td>\n",
       "      <td>6.0</td>\n",
       "      <td>Minnesota</td>\n",
       "      <td>MN</td>\n",
       "      <td>MRO</td>\n",
       "      <td>East North Central</td>\n",
       "      <td>-0.1</td>\n",
       "      <td>normal</td>\n",
       "      <td>2012-06-19</td>\n",
       "      <td>...</td>\n",
       "      <td>73.27</td>\n",
       "      <td>15.28</td>\n",
       "      <td>2279.0</td>\n",
       "      <td>1700.5</td>\n",
       "      <td>18.2</td>\n",
       "      <td>2.14</td>\n",
       "      <td>0.6</td>\n",
       "      <td>91.592666</td>\n",
       "      <td>8.407334</td>\n",
       "      <td>5.478743</td>\n",
       "    </tr>\n",
       "    <tr>\n",
       "      <th>4</th>\n",
       "      <td>5</td>\n",
       "      <td>2015</td>\n",
       "      <td>7.0</td>\n",
       "      <td>Minnesota</td>\n",
       "      <td>MN</td>\n",
       "      <td>MRO</td>\n",
       "      <td>East North Central</td>\n",
       "      <td>1.2</td>\n",
       "      <td>warm</td>\n",
       "      <td>2015-07-18</td>\n",
       "      <td>...</td>\n",
       "      <td>73.27</td>\n",
       "      <td>15.28</td>\n",
       "      <td>2279.0</td>\n",
       "      <td>1700.5</td>\n",
       "      <td>18.2</td>\n",
       "      <td>2.14</td>\n",
       "      <td>0.6</td>\n",
       "      <td>91.592666</td>\n",
       "      <td>8.407334</td>\n",
       "      <td>5.478743</td>\n",
       "    </tr>\n",
       "  </tbody>\n",
       "</table>\n",
       "<p>5 rows × 56 columns</p>\n",
       "</div>"
      ],
      "text/plain": [
       "   OBS  YEAR  MONTH U.S._STATE POSTAL.CODE NERC.REGION      CLIMATE.REGION  \\\n",
       "0    1  2011    7.0  Minnesota          MN         MRO  East North Central   \n",
       "1    2  2014    5.0  Minnesota          MN         MRO  East North Central   \n",
       "2    3  2010   10.0  Minnesota          MN         MRO  East North Central   \n",
       "3    4  2012    6.0  Minnesota          MN         MRO  East North Central   \n",
       "4    5  2015    7.0  Minnesota          MN         MRO  East North Central   \n",
       "\n",
       "   ANOMALY.LEVEL CLIMATE.CATEGORY OUTAGE.START.DATE  ... POPPCT_URBAN  \\\n",
       "0           -0.3           normal        2011-07-01  ...        73.27   \n",
       "1           -0.1           normal        2014-05-11  ...        73.27   \n",
       "2           -1.5             cold        2010-10-26  ...        73.27   \n",
       "3           -0.1           normal        2012-06-19  ...        73.27   \n",
       "4            1.2             warm        2015-07-18  ...        73.27   \n",
       "\n",
       "  POPPCT_UC POPDEN_URBAN POPDEN_UC POPDEN_RURAL AREAPCT_URBAN  AREAPCT_UC  \\\n",
       "0     15.28       2279.0    1700.5         18.2          2.14         0.6   \n",
       "1     15.28       2279.0    1700.5         18.2          2.14         0.6   \n",
       "2     15.28       2279.0    1700.5         18.2          2.14         0.6   \n",
       "3     15.28       2279.0    1700.5         18.2          2.14         0.6   \n",
       "4     15.28       2279.0    1700.5         18.2          2.14         0.6   \n",
       "\n",
       "    PCT_LAND  PCT_WATER_TOT  PCT_WATER_INLAND  \n",
       "0  91.592666       8.407334          5.478743  \n",
       "1  91.592666       8.407334          5.478743  \n",
       "2  91.592666       8.407334          5.478743  \n",
       "3  91.592666       8.407334          5.478743  \n",
       "4  91.592666       8.407334          5.478743  \n",
       "\n",
       "[5 rows x 56 columns]"
      ]
     },
     "execution_count": 3,
     "metadata": {},
     "output_type": "execute_result"
    }
   ],
   "source": [
    "outages = pd.read_excel('outage.xlsx', header=5, skiprows = lambda x: x==6, usecols = lambda x: x!='variables')\n",
    "outages.head()"
   ]
  },
  {
   "cell_type": "markdown",
   "metadata": {},
   "source": [
    "First we have to clean the data. There are some outages where the number of customers affected is missing which makes the data useless. This column only keeps rows that have the number of customers affected."
   ]
  },
  {
   "cell_type": "code",
   "execution_count": 4,
   "metadata": {},
   "outputs": [
    {
     "data": {
      "text/html": [
       "<div>\n",
       "<style scoped>\n",
       "    .dataframe tbody tr th:only-of-type {\n",
       "        vertical-align: middle;\n",
       "    }\n",
       "\n",
       "    .dataframe tbody tr th {\n",
       "        vertical-align: top;\n",
       "    }\n",
       "\n",
       "    .dataframe thead th {\n",
       "        text-align: right;\n",
       "    }\n",
       "</style>\n",
       "<table border=\"1\" class=\"dataframe\">\n",
       "  <thead>\n",
       "    <tr style=\"text-align: right;\">\n",
       "      <th></th>\n",
       "      <th>OBS</th>\n",
       "      <th>YEAR</th>\n",
       "      <th>MONTH</th>\n",
       "      <th>U.S._STATE</th>\n",
       "      <th>POSTAL.CODE</th>\n",
       "      <th>NERC.REGION</th>\n",
       "      <th>CLIMATE.REGION</th>\n",
       "      <th>ANOMALY.LEVEL</th>\n",
       "      <th>CLIMATE.CATEGORY</th>\n",
       "      <th>OUTAGE.START.DATE</th>\n",
       "      <th>...</th>\n",
       "      <th>POPPCT_URBAN</th>\n",
       "      <th>POPPCT_UC</th>\n",
       "      <th>POPDEN_URBAN</th>\n",
       "      <th>POPDEN_UC</th>\n",
       "      <th>POPDEN_RURAL</th>\n",
       "      <th>AREAPCT_URBAN</th>\n",
       "      <th>AREAPCT_UC</th>\n",
       "      <th>PCT_LAND</th>\n",
       "      <th>PCT_WATER_TOT</th>\n",
       "      <th>PCT_WATER_INLAND</th>\n",
       "    </tr>\n",
       "  </thead>\n",
       "  <tbody>\n",
       "    <tr>\n",
       "      <th>0</th>\n",
       "      <td>1</td>\n",
       "      <td>2011</td>\n",
       "      <td>7.0</td>\n",
       "      <td>Minnesota</td>\n",
       "      <td>MN</td>\n",
       "      <td>MRO</td>\n",
       "      <td>East North Central</td>\n",
       "      <td>-0.3</td>\n",
       "      <td>normal</td>\n",
       "      <td>2011-07-01</td>\n",
       "      <td>...</td>\n",
       "      <td>73.27</td>\n",
       "      <td>15.28</td>\n",
       "      <td>2279.0</td>\n",
       "      <td>1700.5</td>\n",
       "      <td>18.2</td>\n",
       "      <td>2.14</td>\n",
       "      <td>0.6</td>\n",
       "      <td>91.592666</td>\n",
       "      <td>8.407334</td>\n",
       "      <td>5.478743</td>\n",
       "    </tr>\n",
       "    <tr>\n",
       "      <th>1</th>\n",
       "      <td>3</td>\n",
       "      <td>2010</td>\n",
       "      <td>10.0</td>\n",
       "      <td>Minnesota</td>\n",
       "      <td>MN</td>\n",
       "      <td>MRO</td>\n",
       "      <td>East North Central</td>\n",
       "      <td>-1.5</td>\n",
       "      <td>cold</td>\n",
       "      <td>2010-10-26</td>\n",
       "      <td>...</td>\n",
       "      <td>73.27</td>\n",
       "      <td>15.28</td>\n",
       "      <td>2279.0</td>\n",
       "      <td>1700.5</td>\n",
       "      <td>18.2</td>\n",
       "      <td>2.14</td>\n",
       "      <td>0.6</td>\n",
       "      <td>91.592666</td>\n",
       "      <td>8.407334</td>\n",
       "      <td>5.478743</td>\n",
       "    </tr>\n",
       "    <tr>\n",
       "      <th>2</th>\n",
       "      <td>4</td>\n",
       "      <td>2012</td>\n",
       "      <td>6.0</td>\n",
       "      <td>Minnesota</td>\n",
       "      <td>MN</td>\n",
       "      <td>MRO</td>\n",
       "      <td>East North Central</td>\n",
       "      <td>-0.1</td>\n",
       "      <td>normal</td>\n",
       "      <td>2012-06-19</td>\n",
       "      <td>...</td>\n",
       "      <td>73.27</td>\n",
       "      <td>15.28</td>\n",
       "      <td>2279.0</td>\n",
       "      <td>1700.5</td>\n",
       "      <td>18.2</td>\n",
       "      <td>2.14</td>\n",
       "      <td>0.6</td>\n",
       "      <td>91.592666</td>\n",
       "      <td>8.407334</td>\n",
       "      <td>5.478743</td>\n",
       "    </tr>\n",
       "    <tr>\n",
       "      <th>3</th>\n",
       "      <td>5</td>\n",
       "      <td>2015</td>\n",
       "      <td>7.0</td>\n",
       "      <td>Minnesota</td>\n",
       "      <td>MN</td>\n",
       "      <td>MRO</td>\n",
       "      <td>East North Central</td>\n",
       "      <td>1.2</td>\n",
       "      <td>warm</td>\n",
       "      <td>2015-07-18</td>\n",
       "      <td>...</td>\n",
       "      <td>73.27</td>\n",
       "      <td>15.28</td>\n",
       "      <td>2279.0</td>\n",
       "      <td>1700.5</td>\n",
       "      <td>18.2</td>\n",
       "      <td>2.14</td>\n",
       "      <td>0.6</td>\n",
       "      <td>91.592666</td>\n",
       "      <td>8.407334</td>\n",
       "      <td>5.478743</td>\n",
       "    </tr>\n",
       "    <tr>\n",
       "      <th>4</th>\n",
       "      <td>6</td>\n",
       "      <td>2010</td>\n",
       "      <td>11.0</td>\n",
       "      <td>Minnesota</td>\n",
       "      <td>MN</td>\n",
       "      <td>MRO</td>\n",
       "      <td>East North Central</td>\n",
       "      <td>-1.4</td>\n",
       "      <td>cold</td>\n",
       "      <td>2010-11-13</td>\n",
       "      <td>...</td>\n",
       "      <td>73.27</td>\n",
       "      <td>15.28</td>\n",
       "      <td>2279.0</td>\n",
       "      <td>1700.5</td>\n",
       "      <td>18.2</td>\n",
       "      <td>2.14</td>\n",
       "      <td>0.6</td>\n",
       "      <td>91.592666</td>\n",
       "      <td>8.407334</td>\n",
       "      <td>5.478743</td>\n",
       "    </tr>\n",
       "  </tbody>\n",
       "</table>\n",
       "<p>5 rows × 56 columns</p>\n",
       "</div>"
      ],
      "text/plain": [
       "   OBS  YEAR  MONTH U.S._STATE POSTAL.CODE NERC.REGION      CLIMATE.REGION  \\\n",
       "0    1  2011    7.0  Minnesota          MN         MRO  East North Central   \n",
       "1    3  2010   10.0  Minnesota          MN         MRO  East North Central   \n",
       "2    4  2012    6.0  Minnesota          MN         MRO  East North Central   \n",
       "3    5  2015    7.0  Minnesota          MN         MRO  East North Central   \n",
       "4    6  2010   11.0  Minnesota          MN         MRO  East North Central   \n",
       "\n",
       "   ANOMALY.LEVEL CLIMATE.CATEGORY OUTAGE.START.DATE  ... POPPCT_URBAN  \\\n",
       "0           -0.3           normal        2011-07-01  ...        73.27   \n",
       "1           -1.5             cold        2010-10-26  ...        73.27   \n",
       "2           -0.1           normal        2012-06-19  ...        73.27   \n",
       "3            1.2             warm        2015-07-18  ...        73.27   \n",
       "4           -1.4             cold        2010-11-13  ...        73.27   \n",
       "\n",
       "  POPPCT_UC POPDEN_URBAN POPDEN_UC POPDEN_RURAL AREAPCT_URBAN  AREAPCT_UC  \\\n",
       "0     15.28       2279.0    1700.5         18.2          2.14         0.6   \n",
       "1     15.28       2279.0    1700.5         18.2          2.14         0.6   \n",
       "2     15.28       2279.0    1700.5         18.2          2.14         0.6   \n",
       "3     15.28       2279.0    1700.5         18.2          2.14         0.6   \n",
       "4     15.28       2279.0    1700.5         18.2          2.14         0.6   \n",
       "\n",
       "    PCT_LAND  PCT_WATER_TOT  PCT_WATER_INLAND  \n",
       "0  91.592666       8.407334          5.478743  \n",
       "1  91.592666       8.407334          5.478743  \n",
       "2  91.592666       8.407334          5.478743  \n",
       "3  91.592666       8.407334          5.478743  \n",
       "4  91.592666       8.407334          5.478743  \n",
       "\n",
       "[5 rows x 56 columns]"
      ]
     },
     "execution_count": 4,
     "metadata": {},
     "output_type": "execute_result"
    }
   ],
   "source": [
    "missing_data = outages['CUSTOMERS.AFFECTED'].isna()\n",
    "data = outages[~missing_data].reset_index(drop=True)\n",
    "data.head()"
   ]
  },
  {
   "cell_type": "markdown",
   "metadata": {},
   "source": [
    "This cell contains a list of features that would be unknown before an outage such as outage duration. It also has features that are useless like the observation number of the outage."
   ]
  },
  {
   "cell_type": "code",
   "execution_count": 5,
   "metadata": {},
   "outputs": [],
   "source": [
    "unknown_features = ['OBS','YEAR','MONTH','U.S._STATE',\n",
    "                    'OUTAGE.START.DATE', 'OUTAGE.START.TIME', 'OUTAGE.RESTORATION.DATE',\n",
    "                    'OUTAGE.RESTORATION.TIME', 'CAUSE.CATEGORY.DETAIL',\n",
    "                    'HURRICANE.NAMES', 'OUTAGE.DURATION', 'DEMAND.LOSS.MW']"
   ]
  },
  {
   "cell_type": "markdown",
   "metadata": {},
   "source": [
    "This class is created as a transformer to drop columns within the pipeline."
   ]
  },
  {
   "cell_type": "code",
   "execution_count": 6,
   "metadata": {},
   "outputs": [],
   "source": [
    "class DropFeatures():\n",
    "    def __init__(self,columns):\n",
    "        self.columns=columns\n",
    "\n",
    "    def transform(self,X,y=None):\n",
    "        return pd.DataFrame(X).drop(self.columns,axis=1)\n",
    "\n",
    "    def fit(self, X, y=None):\n",
    "        return self "
   ]
  },
  {
   "cell_type": "markdown",
   "metadata": {},
   "source": [
    "This cell separates all the numerical columns from categorical columns because the categorical ones have to be one hot encoded before being used."
   ]
  },
  {
   "cell_type": "code",
   "execution_count": 7,
   "metadata": {},
   "outputs": [],
   "source": [
    "X = data.drop(columns=['CUSTOMERS.AFFECTED'])\n",
    "y = data['CUSTOMERS.AFFECTED']\n",
    "numerical = X.select_dtypes(include='number').columns.to_list()\n",
    "categorical = X.select_dtypes(include='object').columns.to_list()\n",
    "num_cols = np.setdiff1d(numerical, unknown_features)\n",
    "cat_cols = np.setdiff1d(categorical, unknown_features)"
   ]
  },
  {
   "cell_type": "markdown",
   "metadata": {},
   "source": [
    "This cell creates a starting pipeline to create a model. The imputer column transformer imputes missing data in the columns using the mean for quantitative columns and mode for categorical ones. It then one hot encodes the categorical columns. Then it uses linear regression to predict the number of customers affected."
   ]
  },
  {
   "cell_type": "code",
   "execution_count": 8,
   "metadata": {},
   "outputs": [],
   "source": [
    "imputer = ColumnTransformer(\n",
    "    transformers=[\n",
    "        ('numerical', SimpleImputer(strategy='mean'), num_cols),\n",
    "        ('categorical', SimpleImputer(strategy='most_frequent'), cat_cols),\n",
    "        ('one-hot', OneHotEncoder(), cat_cols)\n",
    "    ],\n",
    "    remainder='passthrough')\n",
    "\n",
    "one_hot = ColumnTransformer(\n",
    "    transformers=[\n",
    "        ('one-hot', OneHotEncoder(), cat_cols)\n",
    "    ],\n",
    "    remainder='passthrough')\n",
    "\n",
    "baseline = Pipeline([\n",
    "    ('drop-unknown', DropFeatures(columns=unknown_features)),\n",
    "    ('imputer', imputer),\n",
    "    ('drop-categorical', DropFeatures(columns=[38,39,40,41,42])),\n",
    "    ('regression', DecisionTreeRegressor())\n",
    "])"
   ]
  },
  {
   "cell_type": "markdown",
   "metadata": {},
   "source": [
    "This function calculates root mean squared error which is the statistic used to measure the error of the model."
   ]
  },
  {
   "cell_type": "code",
   "execution_count": 9,
   "metadata": {},
   "outputs": [],
   "source": [
    "def rmse(pred, actual):\n",
    "    return np.sqrt(np.mean((pred - actual) ** 2))"
   ]
  },
  {
   "cell_type": "markdown",
   "metadata": {},
   "source": [
    "This cell fits the model to training data and then makes a prediction based on test data. It then finds the RMSE to be about 408311."
   ]
  },
  {
   "cell_type": "code",
   "execution_count": 529,
   "metadata": {},
   "outputs": [
    {
     "data": {
      "text/plain": [
       "408311.37139552715"
      ]
     },
     "execution_count": 529,
     "metadata": {},
     "output_type": "execute_result"
    }
   ],
   "source": [
    "X_train, X_test, y_train, y_test = train_test_split(X, y, test_size=0.25)\n",
    "base_model = baseline.fit(X_train, y_train)\n",
    "pred = base_model.predict(X_test)\n",
    "rmse(pred, y_test)"
   ]
  },
  {
   "cell_type": "markdown",
   "metadata": {},
   "source": [
    "### Final Model"
   ]
  },
  {
   "cell_type": "markdown",
   "metadata": {},
   "source": [
    "This class is a transformer that scales a numerical feature by a categorical one inside the pipeline."
   ]
  },
  {
   "cell_type": "code",
   "execution_count": 10,
   "metadata": {},
   "outputs": [],
   "source": [
    "class StdScalerByGroup(BaseEstimator, TransformerMixin):\n",
    "\n",
    "    def __init__(self):\n",
    "        pass \n",
    "\n",
    "    def fit(self, X, y=None):\n",
    "        df = pd.DataFrame(X)\n",
    "        self.grps_ = df.groupby(df.columns[0]).agg(['mean', 'std']).T\n",
    "        return self\n",
    "\n",
    "    def transform(self, X, y=None):\n",
    "        try:\n",
    "            getattr(self, \"grps_\")\n",
    "        except AttributeError:\n",
    "            raise RuntimeError(\"You must fit the transformer before tranforming the data!\")\n",
    "        \n",
    "        df = pd.DataFrame(X)\n",
    "        for val in df[df.columns[0]].unique():\n",
    "            mask = df[df.columns[0]] == val\n",
    "            for col in df.columns[1:]:\n",
    "                df.loc[mask, col] = (df.loc[mask, col] - self.grps_[val].to_dict()[col, 'mean']) / self.grps_[val].to_dict()[col, 'std']\n",
    "        \n",
    "        \n",
    "        return df[df.columns[1:]]"
   ]
  },
  {
   "cell_type": "markdown",
   "metadata": {},
   "source": [
    "This pipeline creates 2 new features which are the price of electricity and total electricity sale scaled within the category of climate region. This pipeline also imputes missing data and one hot encodes the categorical columns. It still uses the decision tree regressor for now."
   ]
  },
  {
   "cell_type": "code",
   "execution_count": 11,
   "metadata": {},
   "outputs": [],
   "source": [
    "imputer = ColumnTransformer(\n",
    "    transformers=[\n",
    "        ('numerical', SimpleImputer(strategy='mean'), num_cols),\n",
    "        ('categorical', SimpleImputer(strategy='most_frequent'), cat_cols),\n",
    "    ],\n",
    "    remainder='drop')\n",
    "\n",
    "scaler = ColumnTransformer(\n",
    "    transformers=[\n",
    "        ('price', StdScalerByGroup(), [40,33]),\n",
    "        ('sales', StdScalerByGroup(), [40,36]),\n",
    "        ('region', FunctionTransformer(lambda x: x), [40])\n",
    "    ],\n",
    "    remainder='passthrough')\n",
    "\n",
    "encode = ColumnTransformer(\n",
    "    transformers=[\n",
    "        ('one-hot', OneHotEncoder(), [2,39,40,41,42])\n",
    "    ],\n",
    "    remainder='passthrough')\n",
    "\n",
    "preproc = Pipeline([\n",
    "    ('drop-unknown', DropFeatures(columns=unknown_features)),\n",
    "    ('imputer', imputer),\n",
    "    ('scale', scaler),\n",
    "    ('encode', encode)\n",
    "])\n",
    "\n",
    "final = Pipeline([\n",
    "    ('preproc', preproc),\n",
    "    ('regression', DecisionTreeRegressor())\n",
    "])"
   ]
  },
  {
   "cell_type": "markdown",
   "metadata": {},
   "source": [
    "This model gives an RMSE of about 397115 which can be improved with different models or parameters."
   ]
  },
  {
   "cell_type": "code",
   "execution_count": 429,
   "metadata": {},
   "outputs": [
    {
     "data": {
      "text/plain": [
       "397115.3950719488"
      ]
     },
     "execution_count": 429,
     "metadata": {},
     "output_type": "execute_result"
    }
   ],
   "source": [
    "final_model = final.fit(X_train, y_train)\n",
    "final_pred = final_model.predict(X_test)\n",
    "rmse(final_pred, y_test)"
   ]
  },
  {
   "cell_type": "markdown",
   "metadata": {},
   "source": [
    "This cell tries out many hyperparameters for a decision tree regressor and finds the best ones."
   ]
  },
  {
   "cell_type": "code",
   "execution_count": 530,
   "metadata": {},
   "outputs": [
    {
     "data": {
      "text/plain": [
       "{'criterion': 'squared_error', 'max_depth': 2, 'min_samples_split': 2}"
      ]
     },
     "execution_count": 530,
     "metadata": {},
     "output_type": "execute_result"
    }
   ],
   "source": [
    "hyperparameters = {\n",
    "    'max_depth': [2, 3, 4, 5, 7, 10, 13, 15, 18, None], \n",
    "    'min_samples_split': [2, 3, 5, 7, 10, 15, 20],\n",
    "    'criterion': ['squared_error', 'friedman_mse', 'absolute_error', 'poisson']\n",
    "}\n",
    "searcher = GridSearchCV(DecisionTreeRegressor(), hyperparameters, cv=5)\n",
    "searcher.fit(final_model['preproc'].transform(X_train), y_train)\n",
    "searcher.best_params_"
   ]
  },
  {
   "cell_type": "markdown",
   "metadata": {},
   "source": [
    "This cell finds the RMSE using those parameters to get about 389882."
   ]
  },
  {
   "cell_type": "code",
   "execution_count": 531,
   "metadata": {},
   "outputs": [
    {
     "data": {
      "text/plain": [
       "389882.9465073559"
      ]
     },
     "execution_count": 531,
     "metadata": {},
     "output_type": "execute_result"
    }
   ],
   "source": [
    "pl = Pipeline([\n",
    "    ('preproc', preproc),\n",
    "    ('regression', DecisionTreeRegressor(criterion='squared_error', max_depth=2, min_samples_split=2))\n",
    "])\n",
    "model = pl.fit(X_train, y_train)\n",
    "model_pred = model.predict(X_test)\n",
    "rmse(model_pred, y_test)"
   ]
  },
  {
   "cell_type": "markdown",
   "metadata": {},
   "source": [
    "This cell tries out many hyperparameters for a K nearest neighbors regressor and finds the best ones."
   ]
  },
  {
   "cell_type": "code",
   "execution_count": 532,
   "metadata": {},
   "outputs": [
    {
     "data": {
      "text/plain": [
       "{'leaf_size': 1, 'n_neighbors': 50}"
      ]
     },
     "execution_count": 532,
     "metadata": {},
     "output_type": "execute_result"
    }
   ],
   "source": [
    "hyperparameters = {\n",
    "    'n_neighbors': [5, 10, 15, 20, 30, 40, 50, 60, 70, 80, 90, 100], \n",
    "    'leaf_size': [1, 2, 3, 4, 5, 6, 7, 8, 9, 10, 20, 30, 40, 50]\n",
    "}\n",
    "searcher = GridSearchCV(KNeighborsRegressor(), hyperparameters, cv=5)\n",
    "searcher.fit(final_model['preproc'].transform(X_train), y_train)\n",
    "searcher.best_params_"
   ]
  },
  {
   "cell_type": "markdown",
   "metadata": {},
   "source": [
    "This cell finds the RMSE using those parameters to get about 391532."
   ]
  },
  {
   "cell_type": "code",
   "execution_count": 534,
   "metadata": {},
   "outputs": [
    {
     "data": {
      "text/plain": [
       "391532.20530170377"
      ]
     },
     "execution_count": 534,
     "metadata": {},
     "output_type": "execute_result"
    }
   ],
   "source": [
    "pl = Pipeline([\n",
    "    ('preproc', preproc),\n",
    "    ('regression', KNeighborsRegressor(leaf_size=1, n_neighbors=50))\n",
    "])\n",
    "model = pl.fit(X_train, y_train)\n",
    "model_pred = model.predict(X_test)\n",
    "rmse(model_pred, y_test)"
   ]
  },
  {
   "cell_type": "markdown",
   "metadata": {},
   "source": [
    "This cell finds the RMSE when using a logistic regression model which is 438641."
   ]
  },
  {
   "cell_type": "code",
   "execution_count": 535,
   "metadata": {},
   "outputs": [
    {
     "name": "stderr",
     "output_type": "stream",
     "text": [
      "C:\\Users\\rebal\\.conda\\envs\\dsc80\\lib\\site-packages\\sklearn\\linear_model\\_logistic.py:814: ConvergenceWarning: lbfgs failed to converge (status=1):\n",
      "STOP: TOTAL NO. of ITERATIONS REACHED LIMIT.\n",
      "\n",
      "Increase the number of iterations (max_iter) or scale the data as shown in:\n",
      "    https://scikit-learn.org/stable/modules/preprocessing.html\n",
      "Please also refer to the documentation for alternative solver options:\n",
      "    https://scikit-learn.org/stable/modules/linear_model.html#logistic-regression\n",
      "  n_iter_i = _check_optimize_result(\n"
     ]
    },
    {
     "data": {
      "text/plain": [
       "438641.44887565775"
      ]
     },
     "execution_count": 535,
     "metadata": {},
     "output_type": "execute_result"
    }
   ],
   "source": [
    "pl = Pipeline([\n",
    "    ('preproc', preproc),\n",
    "    ('regression', LogisticRegression())\n",
    "])\n",
    "model = pl.fit(X_train, y_train)\n",
    "model_pred = model.predict(X_test)\n",
    "rmse(model_pred, y_test)"
   ]
  },
  {
   "cell_type": "markdown",
   "metadata": {},
   "source": [
    "This cell finds the RMSE when using a linear model to be about 378950."
   ]
  },
  {
   "cell_type": "code",
   "execution_count": 536,
   "metadata": {},
   "outputs": [
    {
     "data": {
      "text/plain": [
       "378950.8665046697"
      ]
     },
     "execution_count": 536,
     "metadata": {},
     "output_type": "execute_result"
    }
   ],
   "source": [
    "pl = Pipeline([\n",
    "    ('preproc', preproc),\n",
    "    ('regression', LinearRegression())\n",
    "])\n",
    "model = pl.fit(X_train, y_train)\n",
    "model_pred = model.predict(X_test)\n",
    "rmse(model_pred, y_test)"
   ]
  },
  {
   "cell_type": "markdown",
   "metadata": {},
   "source": [
    "From this analysis, the model with the lowest error is the linear model which is shown below."
   ]
  },
  {
   "cell_type": "code",
   "execution_count": 12,
   "metadata": {},
   "outputs": [],
   "source": [
    "pl = Pipeline([\n",
    "    ('preproc', preproc),\n",
    "    ('regression', LinearRegression())\n",
    "])\n",
    "final_model = pl.fit(X, y)"
   ]
  },
  {
   "cell_type": "markdown",
   "metadata": {},
   "source": [
    "### Fairness Evaluation"
   ]
  },
  {
   "cell_type": "markdown",
   "metadata": {},
   "source": [
    "We want to check if the predicted number of people affected is fair for states with small and large populations. This cell finds large states which have over the median number of people which is about 10,000,000 people and small states which are the rest."
   ]
  },
  {
   "cell_type": "code",
   "execution_count": 13,
   "metadata": {},
   "outputs": [],
   "source": [
    "size_threshold = (data['POPULATION'] >= data['POPULATION'].median())\n",
    "large = data[size_threshold]\n",
    "small = data[~size_threshold]"
   ]
  },
  {
   "cell_type": "markdown",
   "metadata": {},
   "source": [
    "This cell predicts the number of customers affected separately for small and large populations."
   ]
  },
  {
   "cell_type": "code",
   "execution_count": 14,
   "metadata": {},
   "outputs": [],
   "source": [
    "large_X = large.drop(columns=['CUSTOMERS.AFFECTED'])\n",
    "large_y = large['CUSTOMERS.AFFECTED']\n",
    "small_X = small.drop(columns=['CUSTOMERS.AFFECTED'])\n",
    "small_y = small['CUSTOMERS.AFFECTED']\n",
    "large_pred = final_model.predict(large_X)\n",
    "small_pred = final_model.predict(small_X)"
   ]
  },
  {
   "cell_type": "markdown",
   "metadata": {},
   "source": [
    "This cell creates a dataframe with the squared error for each prediction and the size of the population."
   ]
  },
  {
   "cell_type": "code",
   "execution_count": 15,
   "metadata": {},
   "outputs": [
    {
     "data": {
      "text/html": [
       "<div>\n",
       "<style scoped>\n",
       "    .dataframe tbody tr th:only-of-type {\n",
       "        vertical-align: middle;\n",
       "    }\n",
       "\n",
       "    .dataframe tbody tr th {\n",
       "        vertical-align: top;\n",
       "    }\n",
       "\n",
       "    .dataframe thead th {\n",
       "        text-align: right;\n",
       "    }\n",
       "</style>\n",
       "<table border=\"1\" class=\"dataframe\">\n",
       "  <thead>\n",
       "    <tr style=\"text-align: right;\">\n",
       "      <th></th>\n",
       "      <th>Error</th>\n",
       "      <th>Type</th>\n",
       "    </tr>\n",
       "  </thead>\n",
       "  <tbody>\n",
       "    <tr>\n",
       "      <th>0</th>\n",
       "      <td>1.186391e+08</td>\n",
       "      <td>Large</td>\n",
       "    </tr>\n",
       "    <tr>\n",
       "      <th>1</th>\n",
       "      <td>2.981330e+10</td>\n",
       "      <td>Large</td>\n",
       "    </tr>\n",
       "    <tr>\n",
       "      <th>2</th>\n",
       "      <td>1.063005e+08</td>\n",
       "      <td>Large</td>\n",
       "    </tr>\n",
       "    <tr>\n",
       "      <th>3</th>\n",
       "      <td>3.192411e+08</td>\n",
       "      <td>Large</td>\n",
       "    </tr>\n",
       "    <tr>\n",
       "      <th>4</th>\n",
       "      <td>4.186018e+09</td>\n",
       "      <td>Large</td>\n",
       "    </tr>\n",
       "  </tbody>\n",
       "</table>\n",
       "</div>"
      ],
      "text/plain": [
       "          Error   Type\n",
       "0  1.186391e+08  Large\n",
       "1  2.981330e+10  Large\n",
       "2  1.063005e+08  Large\n",
       "3  3.192411e+08  Large\n",
       "4  4.186018e+09  Large"
      ]
     },
     "execution_count": 15,
     "metadata": {},
     "output_type": "execute_result"
    }
   ],
   "source": [
    "large_errors = pd.DataFrame({'Error':(large_pred - large_y) ** 2, 'Type':'Large'})\n",
    "small_errors = pd.DataFrame({'Error':(small_pred - small_y) ** 2, 'Type':'Small'})\n",
    "errors = pd.concat([large_errors, small_errors]).reset_index(drop=True)\n",
    "errors.head()"
   ]
  },
  {
   "cell_type": "markdown",
   "metadata": {},
   "source": [
    "Now we have to run a permutation test to see if the difference errors between small and large populations are only due to chance. The hypotheses are <br>\n",
    "Null Hypothesis: The model is fair; the mse for small and large states are roughly the same <br>\n",
    "Alternative Hypothesis: The model is unfair; the mse for the subsets are different <br>\n",
    "First we get the observed test statistic which is difference in means."
   ]
  },
  {
   "cell_type": "code",
   "execution_count": 20,
   "metadata": {},
   "outputs": [
    {
     "data": {
      "text/plain": [
       "-104836496803.96036"
      ]
     },
     "execution_count": 20,
     "metadata": {},
     "output_type": "execute_result"
    }
   ],
   "source": [
    "def test_statistic(df):\n",
    "    return df.groupby('Type').mean().diff().iloc[1,0]\n",
    "\n",
    "observed = test_statistic(errors)\n",
    "observed"
   ]
  },
  {
   "cell_type": "markdown",
   "metadata": {},
   "source": [
    "This cell shuffles the type column 10000 times and finds the test statistic each time."
   ]
  },
  {
   "cell_type": "code",
   "execution_count": 25,
   "metadata": {},
   "outputs": [],
   "source": [
    "test_stats = []\n",
    "for i in range(10000):\n",
    "    shuffled = errors.assign(Type=np.random.permutation(errors['Type']))\n",
    "    test_stats.append(test_statistic(shuffled))"
   ]
  },
  {
   "cell_type": "markdown",
   "metadata": {},
   "source": [
    "This plot shows the distribution of simulated test statistics which are not as extreme as the observed one."
   ]
  },
  {
   "cell_type": "code",
   "execution_count": null,
   "metadata": {},
   "outputs": [
    {
     "data": {
      "image/png": "[encoded data removed]",
      "text/plain": [
       "<Figure size 640x480 with 1 Axes>"
      ]
     },
     "metadata": {
      "image/png": {
       "height": 454,
       "width": 595
      }
     },
     "output_type": "display_data"
    }
   ],
   "source": [
    "plt.hist(test_stats)\n",
    "plt.title('Simulated MSE')\n",
    "plt.xlabel('Mean Squared Error')\n",
    "plt.ylabel('Frequency')\n",
    "plt.axvline(observed, color='red')\n",
    "plt.show()"
   ]
  },
  {
   "cell_type": "markdown",
   "metadata": {},
   "source": [
    "This cell finds the p-value which is 0. We reject the null hypothesis and say that MSE is different for large and small states."
   ]
  },
  {
   "cell_type": "code",
   "execution_count": 27,
   "metadata": {},
   "outputs": [
    {
     "data": {
      "text/plain": [
       "0.0"
      ]
     },
     "execution_count": 27,
     "metadata": {},
     "output_type": "execute_result"
    }
   ],
   "source": [
    "np.mean(observed >= test_stats)"
   ]
  }
 ],
 "metadata": {
  "kernelspec": {
   "display_name": "Python 3 (ipykernel)",
   "language": "python",
   "name": "python3"
  },
  "language_info": {
   "codemirror_mode": {
    "name": "ipython",
    "version": 3
   },
   "file_extension": ".py",
   "mimetype": "text/x-python",
   "name": "python",
   "nbconvert_exporter": "python",
   "pygments_lexer": "ipython3",
   "version": "3.8.13"
  }
 },
 "nbformat": 4,
 "nbformat_minor": 2
}
